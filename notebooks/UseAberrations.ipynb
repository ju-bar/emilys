{
 "cells": [
  {
   "cell_type": "code",
   "execution_count": null,
   "metadata": {},
   "outputs": [],
   "source": [
    "# Python Script\n",
    "# Using emilys.optics.aberration\n",
    "#\n",
    "# by J. Barthel / Forschungszentrum Jülich GmbH, Jülich, Germany\n",
    "# email: ju.barthel@fz-juelich.de\n",
    "#\n",
    "# 2019 July 3\n",
    "#\n",
    "# Part of the emilys project: https://github.com/ju-bar/emilys\n",
    "# published under the GNU GPL 3.0 License\n",
    "#"
   ]
  },
  {
   "cell_type": "code",
   "execution_count": null,
   "metadata": {},
   "outputs": [],
   "source": [
    "import numpy as np\n",
    "import matplotlib.pyplot as plt\n",
    "import emilys.image.arrayplot as aplt\n",
    "from emilys.optics.aberration import aberr_axial_func as af"
   ]
  },
  {
   "cell_type": "code",
   "execution_count": null,
   "metadata": {},
   "outputs": [],
   "source": [
    "# initialize an axial aberration function of 3rd order\n",
    "afunc = af(3)"
   ]
  },
  {
   "cell_type": "code",
   "execution_count": null,
   "metadata": {},
   "outputs": [],
   "source": [
    "# set aberration coefficients and usage flags\n",
    "afunc.lcoeff    = [0.+0.j,3.+0.j,-.2+1.5j,20.+125.j,120.-20.j]\n",
    "afunc.luse_term = [0     ,1     ,1       ,1        ,1        ,0,0,0,0,0,0]"
   ]
  },
  {
   "cell_type": "code",
   "execution_count": null,
   "metadata": {},
   "outputs": [],
   "source": [
    "# calculate aberration phase values on a grid\n",
    "n = 256\n",
    "pp = np.zeros((n,n))\n",
    "dwx = 0.0005\n",
    "dwy = 0.0005\n",
    "print('- wmax:', dwx*n + dwy*n*1j)\n",
    "pfac = 2.*np.pi / 0.002\n",
    "for j in range(0,256):\n",
    "    wy = (j-128)*dwy\n",
    "    for i in range(0,256):\n",
    "        wx = (i-128)*dwx\n",
    "        pp[j,i] = afunc.chi(wx + wy*1j)*pfac\n",
    "# plot\n",
    "pp1 = aplt.arrayplot2d(pp, 1, 'seismic', vrange = [-np.pi, np.pi], vrangetype = 'modulo')"
   ]
  },
  {
   "cell_type": "code",
   "execution_count": null,
   "metadata": {},
   "outputs": [],
   "source": []
  }
 ],
 "metadata": {
  "kernelspec": {
   "display_name": "Python 3",
   "language": "python",
   "name": "python3"
  },
  "language_info": {
   "codemirror_mode": {
    "name": "ipython",
    "version": 3
   },
   "file_extension": ".py",
   "mimetype": "text/x-python",
   "name": "python",
   "nbconvert_exporter": "python",
   "pygments_lexer": "ipython3",
   "version": "3.7.3"
  }
 },
 "nbformat": 4,
 "nbformat_minor": 2
}