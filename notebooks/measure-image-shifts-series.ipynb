{
 "cells": [
  {
   "cell_type": "code",
   "execution_count": null,
   "metadata": {},
   "outputs": [],
   "source": [
    "import os\n",
    "import numpy as np\n",
    "import emilys.image.shift as sh\n",
    "import matplotlib.pyplot as plt\n",
    "import emilys.image.arrayplot as aplt\n",
    "#%matplotlib inline"
   ]
  },
  {
   "cell_type": "code",
   "execution_count": null,
   "metadata": {},
   "outputs": [],
   "source": [
    "sworkdir = r'C:\\Data\\Python\\data\\PICO\\stab\\200_190211_1'"
   ]
  },
  {
   "cell_type": "code",
   "execution_count": null,
   "metadata": {},
   "outputs": [],
   "source": [
    "sfpre = 'img_' # image name prefic\n",
    "sfsuf = '.raw' # image name suffix\n",
    "nimg0 = 1 # first image index\n",
    "nimgn = 862 # last image index\n",
    "nidx = 0 # number of digits used in the file name for an index\n",
    "nbin = 4 # detector binning\n",
    "dx = 0.036857 * nbin # detector pixel size (x) [nm]\n",
    "dy = 0.036857 * nbin # detector pixel size (y) [nm]\n",
    "dt = 2.06 # time per aquisition [s]\n",
    "nx = 512 # number of pixels (x)\n",
    "ny = 512 # number of pixels (y)\n",
    "datatype = np.uint16\n",
    "def get_ser_file_name(idx, swd, spre, ssuf, ndig=0):\n",
    "    return os.path.join(swd, spre + '{:0{n}d}'.format(idx, n = ndig) + ssuf)"
   ]
  },
  {
   "cell_type": "code",
   "execution_count": null,
   "metadata": {},
   "outputs": [],
   "source": [
    "# load and show one example image\n",
    "idx = 35\n",
    "sfile = get_ser_file_name(idx, sworkdir, sfpre, sfsuf, nidx)\n",
    "aimg = np.fromfile(sfile, dtype=datatype).astype(np.float32).reshape((ny,nx))\n",
    "paimg = aplt.arrayplot2d(aimg,1)"
   ]
  },
  {
   "cell_type": "code",
   "execution_count": null,
   "metadata": {},
   "outputs": [],
   "source": [
    "# load first first reference\n",
    "idx = nimg0\n",
    "sfile = sfile = get_ser_file_name(idx, sworkdir, sfpre, sfsuf, nidx)\n",
    "aref = np.fromfile(sfile, dtype=datatype).astype(np.float32).reshape((ny,nx))\n",
    "# measure image-to-image shift in a series\n",
    "ash0 = np.zeros((nimgn-nimg0+2,2))\n",
    "ash1 = np.zeros((nimgn-nimg0+2,2))\n",
    "ash2 = np.zeros((nimgn-nimg0+2,2))\n",
    "idx = 0\n",
    "ssh = np.array([dx,dy])\n",
    "for i in range(nimg0+1, 100+1):\n",
    "    # load next image\n",
    "    sfile = sfile = get_ser_file_name(i, sworkdir, sfpre, sfsuf, nidx)\n",
    "    aimg = np.fromfile(sfile, dtype=datatype).astype(np.float32).reshape((ny,nx))\n",
    "    # measure the shift\n",
    "    lsh0 = sh.get_rigid_shift(aimg, aref, method='pixel', maxshift = 3.)\n",
    "    lsh1 = sh.get_rigid_shift(aimg, aref, method='com', maxshift = 3.)\n",
    "    lsh2 = sh.get_rigid_shift(aimg, aref, method='peak', maxshift = 2.5)\n",
    "    ash0[idx] = lsh0[0][0:2] * ssh\n",
    "    ash1[idx] = lsh1[0][0:2] * ssh\n",
    "    ash2[idx] = lsh2[0][0:2] * ssh\n",
    "    lensh2 = np.sqrt(np.sum(lsh2[0][0:2]**2))\n",
    "    delta = np.sqrt(np.sum((lsh1[0][0:2]-lsh2[0][0:2])**2))\n",
    "    print('{:3d}: shift 2 = ({:.3f},{:.3f}),  error = ({:.3f}, {:.3f})'.format(i,lsh2[0][0],lsh2[0][1],lsh2[1][0],lsh2[1][1]))\n",
    "    #print('{:3d}: shift 2 = {:.3f},  dif.: {:.3f},  rel. dif.: {:.3f}'.format(idx, lensh2, delta, delta/lensh2))\n",
    "    aref = aimg\n",
    "    idx += 1"
   ]
  },
  {
   "cell_type": "code",
   "execution_count": null,
   "metadata": {},
   "outputs": [],
   "source": [
    "xrng = 0.08\n",
    "tash0 = ash0.T\n",
    "tash1 = ash1.T\n",
    "tash2 = ash2.T\n",
    "fig, ax = plt.subplots(figsize=(6, 6))\n",
    "ax.set_aspect(1)\n",
    "plt.plot(tash2[0],tash2[1],'k.')\n",
    "plt.plot(tash1[0],tash1[1],'b.')\n",
    "plt.plot(tash0[0],tash0[1],'r.')\n",
    "ax.set_xlim(-xrng, xrng)\n",
    "ax.set_ylim(-xrng, xrng)\n",
    "plt.show()"
   ]
  },
  {
   "cell_type": "code",
   "execution_count": null,
   "metadata": {},
   "outputs": [],
   "source": []
  }
 ],
 "metadata": {
  "kernelspec": {
   "display_name": "Python 3",
   "language": "python",
   "name": "python3"
  },
  "language_info": {
   "codemirror_mode": {
    "name": "ipython",
    "version": 3
   },
   "file_extension": ".py",
   "mimetype": "text/x-python",
   "name": "python",
   "nbconvert_exporter": "python",
   "pygments_lexer": "ipython3",
   "version": "3.8.5-final"
  }
 },
 "nbformat": 4,
 "nbformat_minor": 2
}