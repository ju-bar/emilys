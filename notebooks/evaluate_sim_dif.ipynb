{
 "metadata": {
  "language_info": {
   "codemirror_mode": {
    "name": "ipython",
    "version": 3
   },
   "file_extension": ".py",
   "mimetype": "text/x-python",
   "name": "python",
   "nbconvert_exporter": "python",
   "pygments_lexer": "ipython3",
   "version": "3.8.5-final"
  },
  "orig_nbformat": 2,
  "kernelspec": {
   "name": "python3",
   "display_name": "Python 3",
   "language": "python"
  }
 },
 "nbformat": 4,
 "nbformat_minor": 2,
 "cells": [
  {
   "cell_type": "code",
   "execution_count": null,
   "metadata": {},
   "outputs": [],
   "source": [
    "import os, json, time\n",
    "import numpy as np\n",
    "from emilys.image.arrayplot import arrayplot2d\n",
    "from emilys.image.polar import polar_resample, polar_rebin"
   ]
  },
  {
   "cell_type": "code",
   "execution_count": null,
   "metadata": {},
   "outputs": [],
   "source": [
    "with open('../data/STO_110_5x7_60_keV_px003_py012_pdif_tot.json') as f:\n",
    "    dict_sim = json.load(f)\n",
    "l_data_in = np.fromfile('../data/' + dict_sim['file'], dtype = dict_sim['dtype']).reshape(dict_sim['dim'])\n",
    "i_org = [dict_sim['dim'][1]>>1, dict_sim['dim'][2]>>1]\n",
    "l_data = np.roll(l_data_in, i_org, axis=(1,2))\n",
    "del l_data_in\n",
    "ndim = dict_sim['dim'][1:3]\n",
    "sc_yx = np.array([dict_sim['sim']['params']['super_cell']['b'], dict_sim['sim']['params']['super_cell']['a']])\n",
    "samp_yx = 1./sc_yx\n",
    "sc_z = dict_sim['sim']['params']['super_cell']['c']\n",
    "sc_nz = dict_sim['sim']['params']['grid']['sampling'][0]\n",
    "out_dz = sc_z / sc_nz * dict_sim['sim']['params']['output']['step_z']\n",
    "l_z = np.arange(0, dict_sim['dim'][0]) * out_dz"
   ]
  },
  {
   "cell_type": "code",
   "execution_count": null,
   "metadata": {},
   "outputs": [],
   "source": [
    "arrayplot2d(l_data[8]**0.2);"
   ]
  },
  {
   "cell_type": "code",
   "execution_count": null,
   "metadata": {
    "tags": []
   },
   "outputs": [],
   "source": [
    "# (run this cell twice to get to the speed after just-in-time compilation)\n",
    "# ( ... with smaller areas covered by the polar grid, the binning algorithm should gain in speed)\n",
    "# setup polar grid\n",
    "num_rad = min(ndim[0],ndim[1])>>2\n",
    "num_phi = min(ndim[0],ndim[1])>>1\n",
    "rng_rad = np.array([0.1, 0.5]) * min(samp_yx) * min(ndim) * 0.5\n",
    "# make a test rebinning\n",
    "t0 = time.time()\n",
    "pb = polar_rebin(l_data[8], num_rad, num_phi, i_org, rng_rad, image_scale=np.flip(samp_yx))\n",
    "t1 = time.time()\n",
    "print('rebinning time: {:.3f}s'.format(t1-t0))\n",
    "arrayplot2d(pb**0.2);\n",
    "# make a test resampling\n",
    "t0 = time.time()\n",
    "pr = polar_resample(l_data[8], num_rad, num_phi, i_org, rng_rad, image_scale=np.flip(samp_yx))\n",
    "t1 = time.time()\n",
    "print('resample time: {:.3f}s'.format(t1-t0))\n",
    "arrayplot2d(pr**0.2);"
   ]
  },
  {
   "cell_type": "code",
   "execution_count": null,
   "metadata": {},
   "outputs": [],
   "source": [
    "# This does a polar rebinning for the whole stack of diffraction patterns\n",
    "t0 = time.time()\n",
    "l_pb = polar_rebin(l_data, num_rad, num_phi, i_org, rng_rad, image_scale=np.flip(samp_yx))\n",
    "t1 = time.time()\n",
    "print('stack rebinning time: {:.3f}s'.format(t1-t0))\n",
    "arrayplot2d(l_pb[1]**0.2);\n",
    "# ... polar resampling for the whole stack of diffraction patterns\n",
    "t0 = time.time()\n",
    "l_pr = polar_resample(l_data, num_rad, num_phi, i_org, rng_rad, image_scale=np.flip(samp_yx))\n",
    "t1 = time.time()\n",
    "print('stack rebinning time: {:.3f}s'.format(t1-t0))\n",
    "arrayplot2d(l_pr[1]**0.2);"
   ]
  },
  {
   "cell_type": "code",
   "execution_count": null,
   "metadata": {},
   "outputs": [],
   "source": []
  }
 ]
}