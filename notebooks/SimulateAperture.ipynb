{
 "cells": [
  {
   "cell_type": "code",
   "execution_count": null,
   "metadata": {},
   "outputs": [],
   "source": [
    "import numpy as np\n",
    "import emilys.optics.aperture as ap\n",
    "import emilys.optics.mtf as mtf\n",
    "import emilys.image.arrayplot as aplt\n",
    "import matplotlib.pyplot as plt\n",
    "import scipy.optimize as opt\n",
    "import time\n",
    "%matplotlib inline"
   ]
  },
  {
   "cell_type": "code",
   "execution_count": null,
   "metadata": {},
   "outputs": [],
   "source": [
    "# this calculates an aperture on a grid with mtf convolution\n",
    "# aperture values are 1 for full transmission\n",
    "def simulate_aperture(array, mtfkern, pos, qsamp, qcenter, qrad, qrs, qra1, qp1):\n",
    "    # calculate an aperture grid\n",
    "    qs = np.abs(qrs * qrad) # rescale from relative to absolute edge smoothness\n",
    "    qa1 = qra1 * qrad # rescale from relative to absolute asymmetry\n",
    "    ap.aperture_a_grid(array, pos, qsamp, qcenter, qrad, qs, qa1, qp1)\n",
    "    #emilys.optics.aperture.aperture_a_grid(array, pos, qsamp, qcenter, qrad, qs, qa1, qp1)\n",
    "    # resample the squared image on bins with MTF\n",
    "    array[...] = np.real( np.fft.ifft2( np.fft.fft2(array * array) * mtfkern ) )\n",
    "    return 0\n",
    "# function calculating the difference between two aperture images\n",
    "def aperture_image_sdif(image_ref, image_sim, image_msk, mtfkern, qsamp, params):\n",
    "    nprm = params.size\n",
    "    c = np.array([0.,0.])\n",
    "    # simulate an aperture image\n",
    "    simulate_aperture(image_sim, mtfkern, params[0:2], qsamp, c, params[2], params[3], params[4], params[5])\n",
    "    tsim = np.sum(image_sim) # get total simulated intensity\n",
    "    image_sim[...] = image_sim / tsim # normalize and set\n",
    "    return np.sum(((image_sim - image_ref)**2 * image_msk)) # return squared difference of masked pixels   "
   ]
  },
  {
   "cell_type": "code",
   "execution_count": null,
   "metadata": {},
   "outputs": [],
   "source": [
    "# ! Set the working directory for helping to locate input and output files on yur local drive !\n",
    "sworkdir = '../data/'"
   ]
  },
  {
   "cell_type": "code",
   "execution_count": null,
   "metadata": {},
   "outputs": [],
   "source": [
    "# experimental parameters\n",
    "ndim = np.array([256,256]) # image dimensions\n",
    "arot = -12.1/180.*np.pi # image sampling back-rotation\n",
    "rm = np.array([[np.cos(arot), -np.sin(arot)], [np.sin(arot), np.cos(arot)]]) # rotation matrix\n",
    "sq1 = np.array([[0.264025, 0.000831018],[0., 0.263445]]) # sampling matrix\n",
    "sq2 = np.dot(rm,sq1) # final sampling matrix\n",
    "q0 = np.array([0.,0.]) # aperture shift\n",
    "p0 = np.array([127.,127.]) # aperture center\n",
    "smtf = sworkdir + 'Merlin-300keV-SPCM100.mtf' # mtf file\n",
    "lmtf = mtf.loadmtf(smtf) # load mtf\n",
    "amtf = mtf.getmtfkernel(lmtf,ndim,1.) # calculate mtf kernel in Fourier space\n",
    "plotmtf = aplt.arrayplot2d(amtf, 1, 'inferno') # plot it\n",
    "ar1 = np.zeros(amtf.shape) # initialize working array for aperture image"
   ]
  },
  {
   "cell_type": "code",
   "execution_count": null,
   "metadata": {},
   "outputs": [],
   "source": [
    "# load experimental image\n",
    "aexp0 = np.fromfile(sworkdir + 'vac_3_avg.dat', dtype='float64').reshape(ndim)\n",
    "rngc = np.array([[97, 151], [97, 154]])\n",
    "aexp0c = aexp0[rngc[0,0]:rngc[0,1],rngc[1,0]:rngc[1,1]]\n",
    "mexp0c = np.mean(aexp0c.reshape(aexp0c.size))\n",
    "vexp0c = np.var(aexp0c.reshape(aexp0c.size))\n",
    "texp0 = np.sum(aexp0)\n",
    "aexp1 = aexp0 / texp0 # normalize to total intensity of 1 -> fit to this set of data\n",
    "aexp1c = aexp1[rngc[0,0]:rngc[0,1],rngc[1,0]:rngc[1,1]]\n",
    "mexp1c = np.mean(aexp1c.reshape(aexp1c.size))\n",
    "vexp1c = np.var(aexp1c.reshape(aexp1c.size))\n",
    "plotexpcenter = aplt.arrayplot2d(aexp0c, 4, 'inferno')\n",
    "print(\"- total original counts:\", texp0)\n",
    "print(\"- original center (mean, std. dev., var.):\", np.array([mexp0c, np.sqrt(vexp0c),vexp0c]))\n",
    "print(\"- rescaled center (mean, std. dev., var.):\", np.array([mexp1c, np.sqrt(vexp1c),vexp1c]))"
   ]
  },
  {
   "cell_type": "code",
   "execution_count": null,
   "metadata": {},
   "outputs": [],
   "source": [
    "# setup a list of pixel block masks to be excluded from the evaluation\n",
    "# use this to take out dirty parts of the aperture edge, which cannot be modelled\n",
    "amsk0 = np.full(amtf.shape, 1)\n",
    "amsk1 = amsk0\n",
    "pmsk = np.array([[157,98,2],[110,170,2],[128,173,2],[81,117,2]]) # ! set pixel blocks to mask [col,row,size]\n",
    "for i in range(0, pmsk.shape[0]):\n",
    "    amsk1[pmsk[i,0]-pmsk[i,2]:pmsk[i,0]+pmsk[i,2]+1,pmsk[i,1]-pmsk[i,2]:pmsk[i,1]+pmsk[i,2]+1] = 0\n",
    "plotmsk = aplt.arrayplot2d((aexp1*amsk1),2,'inferno')"
   ]
  },
  {
   "cell_type": "code",
   "execution_count": null,
   "metadata": {},
   "outputs": [],
   "source": [
    "# test simulation\n",
    "# - set parameters\n",
    "p0 = np.array([127.,126.]) # aperture center position in pixels [x, y]\n",
    "apr = 12.0 # aperture radius in [1/nm]\n",
    "aps = 0.03 # relative aperture edge smoothness (rel. to radius)\n",
    "qa1 = 0.034 # relative aperture anisotropy (re. to radius)\n",
    "qp1 = 34.*np.pi/180. # anisotropy orientation [rad]\n",
    "# - calculate\n",
    "start = time.time()\n",
    "simulate_aperture(ar1,amtf,p0,sq2,q0,apr,aps,qa1,qp1)\n",
    "end = time.time()\n",
    "print('Elapsed time [s] :' , (end - start))\n",
    "# - plot\n",
    "plota = aplt.arrayplot2d(ar1, 2, 'inferno')"
   ]
  },
  {
   "cell_type": "code",
   "execution_count": null,
   "metadata": {},
   "outputs": [],
   "source": [
    "# test comparison\n",
    "artmp = ar1\n",
    "# - set parameters\n",
    "p0 = np.array([127.64, 125.62])\n",
    "apr = 11.94\n",
    "aps = 0.0283\n",
    "apa = 0.0342\n",
    "app = 34.13/180.*np.pi\n",
    "prmtmp = np.append(p0,np.array([apr,aps,apa,app]))\n",
    "print(prmtmp)\n",
    "# - calculate\n",
    "start = time.time()\n",
    "chisq = aperture_image_sdif(aexp1, artmp, amsk1, amtf, sq2, prmtmp)\n",
    "end = time.time()\n",
    "print('Elapsed time [s] :' , (end - start))\n",
    "print('chi-square :', chisq)\n",
    "# - plot\n",
    "adif = (aexp1 - artmp)\n",
    "plota = aplt.arrayplot2d(adif, 2, 'seismic', vrangetype = 'direct', vrange = np.array([-1.e-5,1.e-5]))"
   ]
  },
  {
   "cell_type": "code",
   "execution_count": null,
   "metadata": {},
   "outputs": [],
   "source": [
    "# prepare nelder mead optimization\n",
    "from scipy.optimize import minimize\n",
    "artmp = ar1\n",
    "def nmcost(x):\n",
    "    return aperture_image_sdif(aexp1, artmp, amsk1, amtf, sq2, x)"
   ]
  },
  {
   "cell_type": "code",
   "execution_count": null,
   "metadata": {},
   "outputs": [],
   "source": [
    "# Run a Nelder-Mead optimization\n",
    "# This takes about 5 - 10 minutes and delivers a good result.\n",
    "#\n",
    "# setup parameters\n",
    "prmnm0 = np.array([127.,127.,12.0,0.03,0.003,0.5]) # initial parameters a1\n",
    "# setup simplex\n",
    "prmnmd = np.array([1.,1.,1.,0.01,0.01,0.1]) # initial parameter variation a1\n",
    "prmnms = np.array(prmnm0) # initialize simplex\n",
    "nprm = prmnm0.size\n",
    "for i in range(0,nprm):\n",
    "    prmdev = np.random.normal(size = nprm) * prmnmd\n",
    "    prmnms = np.append(prmnms,prmnm0+prmdev)\n",
    "prmnms = prmnms.reshape(nprm+1,nprm)\n",
    "# run simplex\n",
    "start = time.time()\n",
    "nmsol = minimize(nmcost, prmnm0, method='nelder-mead',\n",
    "                 options={'xatol': 1e-4, 'fatol': 1e-10, 'disp': True, 'adaptive': True, 'initial_simplex': prmnms})\n",
    "end = time.time()\n",
    "prmnmr = nmsol.x\n",
    "chisq = nmsol.fun\n",
    "print('Elapsed time [s]:', (end - start))\n",
    "print('chi-square:', chisq)\n",
    "print('best parameters:', prmnmr)\n"
   ]
  },
  {
   "cell_type": "code",
   "execution_count": null,
   "metadata": {},
   "outputs": [],
   "source": [
    "# display the result of the Nelder-Mead optimization\n",
    "chisq = aperture_image_sdif(aexp1, artmp, amsk1, amtf, sq2, prmnmr)\n",
    "adif = (aexp1 - artmp)\n",
    "print('chi-square:', chisq)\n",
    "print('min:', np.amin(adif), ', max: ', np.amax(adif))\n",
    "plota = aplt.arrayplot2d(adif, 2, 'seismic', vrangetype = 'direct', vrange = np.array([-1.e-5,1.e-5]))\n",
    "#plt.savefig(sworkdir + 'vac_3_avg_sim_a1.png', dpi=plota[0].dpi)"
   ]
  },
  {
   "cell_type": "code",
   "execution_count": null,
   "metadata": {},
   "outputs": [],
   "source": [
    "prmnmr[5]*180./np.pi"
   ]
  },
  {
   "cell_type": "code",
   "execution_count": null,
   "metadata": {},
   "outputs": [],
   "source": [
    "nphi = 180\n",
    "nrad = 100\n",
    "lphi = np.arange(0, nphi) * 2. * np.pi / nphi\n",
    "lq0 = prmnmr[2] * np.array([np.cos(lphi),np.sin(lphi)]).T\n",
    "lp0 = np.dot(np.linalg.inv(sq2),lq0.T).T + prmnmr[0:2]\n",
    "lq1 = np.zeros((nphi,2),dtype=float)\n",
    "a1x = prmnmr[2] * prmnmr[4] * np.cos(2. * prmnmr[5])\n",
    "a1y = prmnmr[2] * prmnmr[4] * np.sin(2. * prmnmr[5])\n",
    "print('a1 = ',np.array([a1x,a1y]))\n",
    "for i in range(0,nphi):\n",
    "    rx = np.cos(lphi[i])\n",
    "    ry = np.sin(lphi[i])\n",
    "    #lq1[i] = prmnmr[2] * np.array([rx,ry]) + a1x * np.array([rx,-ry]) + a1y * np.array([ry,rx])\n",
    "    lq1[i] = np.array([rx*(prmnmr[2]+a1x) + ry*a1y, ry*(prmnmr[2]-a1x) + rx*a1y])\n",
    "lp1 = np.dot(np.linalg.inv(sq2),lq1.T).T + prmnmr[0:2]\n",
    "aa0 = prmnmr[5]\n",
    "ve0 = np.array([np.cos(aa0),np.sin(aa0)])\n",
    "ve1 = np.array([ve0[1],-ve0[0]])\n",
    "lr0 = np.zeros((nrad,2),dtype=float)\n",
    "lr1 = np.zeros((nrad,2),dtype=float)\n",
    "for i in range(0,nrad):\n",
    "    lr0[i] = 1.0 * i / nrad * ( prmnmr[2] * ve0 + a1x * ve1 + a1y * np.flip(ve0) )\n",
    "    lr1[i] = 1.0 * i / nrad * ( prmnmr[2] * ve1 - a1x * ve0 + a1y * np.flip(ve1) )\n",
    "lp2 = np.dot(np.linalg.inv(sq2),lr0.T).T + prmnmr[0:2]\n",
    "lp3 = np.dot(np.linalg.inv(sq2),lr1.T).T + prmnmr[0:2]\n",
    "\n",
    "pexpfig, pexpax = aplt.arrayplot2d(aexp1,3,'inferno');\n",
    "\n",
    "pexpax.plot(lp0.T[0],lp0.T[1],'g--',lw=1.0);\n",
    "pexpax.plot(lp1.T[0],lp1.T[1],'w-',lw=1.0);\n",
    "pexpax.plot(lp2.T[0],lp2.T[1],'k-',lw=1.0);\n",
    "pexpax.plot(lp3.T[0],lp3.T[1],'k-',lw=1.0);"
   ]
  },
  {
   "cell_type": "code",
   "execution_count": null,
   "metadata": {},
   "outputs": [],
   "source": []
  }
 ],
 "metadata": {
  "kernelspec": {
   "display_name": "Python 3",
   "language": "python",
   "name": "python3"
  },
  "language_info": {
   "codemirror_mode": {
    "name": "ipython",
    "version": 3
   },
   "file_extension": ".py",
   "mimetype": "text/x-python",
   "name": "python",
   "nbconvert_exporter": "python",
   "pygments_lexer": "ipython3",
   "version": "3.7.3"
  }
 },
 "nbformat": 4,
 "nbformat_minor": 2
}