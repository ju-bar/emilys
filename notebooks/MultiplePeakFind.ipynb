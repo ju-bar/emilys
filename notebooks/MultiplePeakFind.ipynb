{
 "cells": [
  {
   "cell_type": "code",
   "execution_count": null,
   "metadata": {},
   "outputs": [],
   "source": [
    "import numpy as np\n",
    "import matplotlib.pyplot as plt\n",
    "from emilys.image.arrayplot import arrayplot2d\n",
    "%matplotlib inline"
   ]
  },
  {
   "cell_type": "code",
   "execution_count": null,
   "metadata": {},
   "outputs": [],
   "source": [
    "# development imports with autoreload\n",
    "%load_ext autoreload\n",
    "%autoreload 1"
   ]
  },
  {
   "cell_type": "code",
   "execution_count": null,
   "metadata": {},
   "outputs": [],
   "source": [
    "# development import specifics\n",
    "%aimport emilys.image.kernels"
   ]
  },
  {
   "cell_type": "code",
   "execution_count": null,
   "metadata": {},
   "outputs": [],
   "source": [
    "# load an image file and show it\n",
    "nx = 256\n",
    "ny = 256\n",
    "img0 = np.fromfile('../data/scan-image.dat', dtype=np.uint16).astype(float).reshape(ny,nx) # convert to float\n",
    "arrayplot2d(img0, 2, 'inferno');"
   ]
  },
  {
   "cell_type": "code",
   "execution_count": null,
   "metadata": {},
   "outputs": [],
   "source": [
    "# Define a feature size threshold in pixels\n",
    "# Set this to the approximate size of features you want to detect\n",
    "sthr = 2.5\n",
    "# Define a feature distance threshold in pixels\n",
    "# Set this to the approximate distance between features you want to separate\n",
    "dthr = 10.\n",
    "kernf = emilys.image.kernels.bwl_gaussian(img0.shape, sthr/2)\n",
    "kernd = emilys.image.kernels.bwl_gaussian(img0.shape, dthr)"
   ]
  },
  {
   "cell_type": "code",
   "execution_count": null,
   "metadata": {},
   "outputs": [],
   "source": [
    "# Convolute the image with the kernels\n",
    "ft_img0 = np.fft.fft2(img0)\n",
    "ft_kernf = np.fft.fft2(kernf)\n",
    "ft_kernd = np.fft.fft2(kernd)\n",
    "# feature + background\n",
    "imglpf = np.real( np.fft.ifft2( ft_img0 * np.conjugate(ft_kernf) ) )\n",
    "# background\n",
    "imglpd = np.real( np.fft.ifft2( ft_img0 * np.conjugate(ft_kernd) ) )\n",
    "# plot features\n",
    "arrayplot2d(imglpf-imglpd, 2, 'inferno');"
   ]
  },
  {
   "cell_type": "code",
   "execution_count": null,
   "metadata": {},
   "outputs": [],
   "source": [
    "# Define an acceptable signal to noise ratio!\n",
    "asnr = 2.\n",
    "# Get noise estimate from high pass\n",
    "imghpf = img0 - imglpf\n",
    "s0 = asnr * np.sqrt(np.sum(imghpf**2)/ (nx*ny)) # asnr * sigma per pixel\n",
    "# Scale freature image with respect to noise level and flag peak pixels\n",
    "pf_img = (np.tanh(100.*np.pi*((imglpf-imglpd) / s0 - 1.))*0.5 + 1.).astype(int)\n",
    "# plot peak flags\n",
    "arrayplot2d(pf_img, 2, 'inferno');"
   ]
  },
  {
   "cell_type": "code",
   "execution_count": null,
   "metadata": {},
   "outputs": [],
   "source": [
    "# cluster flags\n",
    "# delete small clusters\n",
    "# fit peak functions at cluster areas\n",
    "# "
   ]
  }
 ],
 "metadata": {
  "kernelspec": {
   "display_name": "Python 3",
   "language": "python",
   "name": "python3"
  },
  "language_info": {
   "codemirror_mode": {
    "name": "ipython",
    "version": 3
   },
   "file_extension": ".py",
   "mimetype": "text/x-python",
   "name": "python",
   "nbconvert_exporter": "python",
   "pygments_lexer": "ipython3",
   "version": "3.7.3"
  }
 },
 "nbformat": 4,
 "nbformat_minor": 2
}