{
 "cells": [
  {
   "cell_type": "code",
   "execution_count": null,
   "metadata": {},
   "outputs": [],
   "source": [
    "# Jupyter notebook\n",
    "# by J. Barthel, Ernst Ruska-Centre (ER-C 2)\n",
    "# Forschungszentrum Juelich GmbH, Germany\n",
    "# email: ju.barthel@fz-juelich.de\n",
    "# ------------------------------------------\n",
    "#\n",
    "# Demonstration of measuring focus-spread from an image of thin amorphous\n",
    "# recorded under tilted beam illumination and significant defocus.\n",
    "# The applied tilt should be around twice as large as the information limit\n",
    "# caused by the focus spread. Under such conditions a strong anisotropic\n",
    "# attenuation of the Thon ring pattern should be visible in the diffractogram.\n",
    "# Method: J. Barthel, A. Thust, Phys. Rev. Lett. 101 (2008) 200801.\n",
    "#"
   ]
  },
  {
   "cell_type": "code",
   "execution_count": null,
   "metadata": {},
   "outputs": [],
   "source": [
    "import numpy as np\n",
    "from emilys.optics.econst import ht2wl\n",
    "from emilys.optics.focusspread import measure_fs_lf, info_limit\n",
    "from emilys.image.imagedata import image_load, image_diffractogram\n",
    "from emilys.image.manipulations import replace_area_from_random_surrounding\n",
    "from emilys.image.thonrings import lp_filter, lf_component\n",
    "from emilys.image.arrayplot import arrayplot2d\n",
    "import matplotlib.pyplot as plt\n",
    "from matplotlib.patches import Circle\n",
    "%matplotlib inline"
   ]
  },
  {
   "cell_type": "code",
   "execution_count": null,
   "metadata": {},
   "outputs": [],
   "source": [
    "# --- user input required below this line ---\n",
    "sworkdir = 'F:/Data/Measurements/Titan-T/FSTEST/181203/C-Mh255kx/' # working directory on disk\n",
    "sfile = 'ty_2.5deg.dat' # image file name\n",
    "dtyp = np.int32 # image data type\n",
    "ndim = 512 # image size in pixels (assuming square)\n",
    "sr = 0.159 # sampling rate [nm / pixel]\n",
    "ekin = 300. # electron kinetic energy [keV]\n",
    "lam = ht2wl(ekin) # electron wavelength\n",
    "tm = 2.5 * np.pi / 180. / lam # beam tilt magnitude [1/nm] from degrees\n",
    "ta = 0.5 * np.pi # beam tilt azimuth (rough estimate)\n",
    "lpstrength = 0.5 # strength of the diffractogram low pass filter (0.3 ... 0.9)\n",
    "q_rng = np.array([2.0,2.9]) # set range of q to use for the measurement (must be smaller than q_max of the image)\n",
    "# --- end of input ---\n",
    "sq = 1./(sr*ndim) # reciprocal space sampling rate [1/nm / pixel]\n",
    "ndim2 = ndim >> 1 # nyquist\n",
    "print('diffractogram q_max = {:5.3f} 1/nm'.format(sq * ndim2))\n",
    "# load the image\n",
    "aimg = image_load(sworkdir + sfile, ndim, ndim, dtyp).astype(float)\n",
    "# calculate the diffractogram\n",
    "adif = image_diffractogram(aimg)\n",
    "# replace around central beam region with random adjacent values\n",
    "adif1 = replace_area_from_random_surrounding(adif, [ndim2, ndim2], 0.07 * ndim2, 0.10 * ndim2)\n",
    "# apply a low pass to reduce noise\n",
    "adif2 = np.abs(lp_filter(adif1, lpstrength))\n",
    "# plot manipulated and low-pass filtered diffractogram\n",
    "fadif, xadif = arrayplot2d(adif2**0.25, 1, 'inferno')\n",
    "# ... mark selected radial range (q_rng)\n",
    "circ0 = Circle((ndim2, ndim2), q_rng[0]/sq, color='w', fill=False)\n",
    "circ1 = Circle((ndim2, ndim2), q_rng[1]/sq, color='w', fill=False)\n",
    "xadif.add_patch(circ0);\n",
    "xadif.add_patch(circ1);\n",
    "# extract the low-frequency components of the diffractogram\n",
    "adlp0 = lf_component(adif2)\n",
    "# ... plot it\n",
    "fadlp0, axadlp0 = arrayplot2d(adlp0**0.25, 1, 'inferno')"
   ]
  },
  {
   "cell_type": "code",
   "execution_count": null,
   "metadata": {},
   "outputs": [],
   "source": [
    "# measure the focus-spread -> info limit\n",
    "vec_t = np.array([tm*np.cos(ta),tm*np.sin(ta)]) # tilt vector (tx, ty)\n",
    "m_fs, s_fs, q_s, lil = measure_fs_lf(adlp0, sq, q_rng, vec_t, lam) # measure focus spread\n",
    "m_il = info_limit(m_fs, lam) # calculate mean info limit\n",
    "s_il = 0.5 * m_il * s_fs / m_fs # calculate error of info limit\n",
    "# --- result ---\n",
    "print('focus spread: {:6.4f} nm +/- {:6.4f} nm'.format(m_fs, s_fs))\n",
    "print('info-limit  : {:6.4f} nm +/- {:6.4f} nm'.format(m_il, s_il))"
   ]
  },
  {
   "cell_type": "code",
   "execution_count": null,
   "metadata": {},
   "outputs": [],
   "source": [
    "fig, ax = plt.subplots()\n",
    "ffsq = ax.errorbar(q_s, lil.T[0], yerr=np.sqrt(lil.T[1]), fmt='ko')\n",
    "ax.set_xlabel('q [1/nm]')\n",
    "ax.set_ylabel('$\\Delta$ [nm]')\n",
    "ax.set_title('focus spread measured from individual rings')\n",
    "plt.show()"
   ]
  },
  {
   "cell_type": "code",
   "execution_count": null,
   "metadata": {},
   "outputs": [],
   "source": []
  }
 ],
 "metadata": {
  "kernelspec": {
   "display_name": "Python 3",
   "language": "python",
   "name": "python3"
  },
  "language_info": {
   "codemirror_mode": {
    "name": "ipython",
    "version": 3
   },
   "file_extension": ".py",
   "mimetype": "text/x-python",
   "name": "python",
   "nbconvert_exporter": "python",
   "pygments_lexer": "ipython3",
   "version": "3.8.5-final"
  }
 },
 "nbformat": 4,
 "nbformat_minor": 2
}