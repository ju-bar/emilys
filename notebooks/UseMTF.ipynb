{
 "cells": [
  {
   "cell_type": "code",
   "execution_count": null,
   "metadata": {},
   "outputs": [],
   "source": [
    "import numpy as np\n",
    "import emilys.optics.mtf as mtf\n",
    "import matplotlib.pyplot as plt\n",
    "import emilys.image.arrayplot as aplt\n",
    "%matplotlib inline"
   ]
  },
  {
   "cell_type": "code",
   "execution_count": null,
   "metadata": {},
   "outputs": [],
   "source": [
    "# load MTF values from file\n",
    "# ! Set the file name to where it is on your local drive !\n",
    "lmtf = mtf.loadmtf('F:/Data/Python/emilys/data/Merlin-300keV-SPCM100.mtf')"
   ]
  },
  {
   "cell_type": "code",
   "execution_count": null,
   "metadata": {},
   "outputs": [],
   "source": [
    "# transpose to access lists of f and mtf(f)\n",
    "lmtft = lmtf.T"
   ]
  },
  {
   "cell_type": "code",
   "execution_count": null,
   "metadata": {},
   "outputs": [],
   "source": [
    "# plot data over frequency range (0 ... 1)\n",
    "plt.plot(lmtft[0],lmtft[1],'k-',label='data')\n",
    "plt.axis([0.,.5,0.,1.])\n",
    "plt.xlabel('frequency f')\n",
    "plt.ylabel('MTF(f)')\n",
    "plt.legend()\n",
    "plt.show()"
   ]
  },
  {
   "cell_type": "code",
   "execution_count": null,
   "metadata": {},
   "outputs": [],
   "source": [
    "# import fitting routine\n",
    "from scipy.optimize import curve_fit"
   ]
  },
  {
   "cell_type": "code",
   "execution_count": null,
   "metadata": {},
   "outputs": [],
   "source": [
    "# define exponential function fitted to tail of the mtf data\n",
    "def func(x, a, b, c):\n",
    "    return a * np.exp(-b * x) + c"
   ]
  },
  {
   "cell_type": "code",
   "execution_count": null,
   "metadata": {},
   "outputs": [],
   "source": [
    "# fit to the last 1/3 values\n",
    "ndata = lmtf.shape[0]\n",
    "nfitrng = np.array([2*int(ndata/3),ndata])\n",
    "fdata = lmtf[nfitrng[0]:nfitrng[1]].T\n",
    "popt = curve_fit(func, fdata[0], fdata[1])\n",
    "print(popt)"
   ]
  },
  {
   "cell_type": "code",
   "execution_count": null,
   "metadata": {},
   "outputs": [],
   "source": [
    "# show fit result\n",
    "dx = lmtft[0,1]\n",
    "n = 2*lmtft[0].size - 1\n",
    "xdata = np.arange(nfitrng[0],n) * dx\n",
    "plt.plot(xdata, func(xdata, *popt[0]), 'b--', label='fit: a=%5.3f, b=%5.3f, c=%5.3f' % tuple(popt[0]))\n",
    "plt.plot(lmtft[0],lmtft[1],'k-',label='data')\n",
    "plt.axis([0.,1.,0.,1.])\n",
    "plt.xlabel('frequency f')\n",
    "plt.ylabel('MTF(f)')\n",
    "plt.legend()\n",
    "plt.show()"
   ]
  },
  {
   "cell_type": "code",
   "execution_count": null,
   "metadata": {},
   "outputs": [],
   "source": [
    "# extrapolate frequency range from 0.5 to 1 from the fitted exponential\n",
    "fextr = np.arange(nfitrng[1]+1,n) * dx\n",
    "mtfextr = func(fextr, *popt[0])\n",
    "lmtf1t = np.array([np.append(lmtft[0],fextr),np.append(lmtft[1],mtfextr)])\n",
    "lmtf1 = lmtf1t.T\n",
    "plt.plot(lmtf1t[0],lmtf1t[1],'k-',label='extended data')\n",
    "plt.axis([0.,1.,0.,1.])\n",
    "plt.xlabel('frequency f')\n",
    "plt.ylabel('MTF(f)')\n",
    "plt.legend()\n",
    "plt.show()"
   ]
  },
  {
   "cell_type": "code",
   "execution_count": null,
   "metadata": {},
   "outputs": [],
   "source": [
    "# prepare an array with mtf values and add the pixelation Sinc\n",
    "ndim = np.array([256,256]) # ! set array dimensions (ny,nx)\n",
    "fsca = 1.0 # ! set frequency scale (sampling rate exp / sampling rate sim)\n",
    "amtf = mtf.getmtfkernel(lmtf,ndim,fsca)\n",
    "print(amtf.shape)"
   ]
  },
  {
   "cell_type": "code",
   "execution_count": null,
   "metadata": {},
   "outputs": [],
   "source": [
    "pamtf = aplt.arrayplot2d(amtf,2)"
   ]
  },
  {
   "cell_type": "code",
   "execution_count": null,
   "metadata": {},
   "outputs": [],
   "source": []
  }
 ],
 "metadata": {
  "kernelspec": {
   "display_name": "Python 3",
   "language": "python",
   "name": "python3"
  },
  "language_info": {
   "codemirror_mode": {
    "name": "ipython",
    "version": 3
   },
   "file_extension": ".py",
   "mimetype": "text/x-python",
   "name": "python",
   "nbconvert_exporter": "python",
   "pygments_lexer": "ipython3",
   "version": "3.7.3"
  }
 },
 "nbformat": 4,
 "nbformat_minor": 2
}